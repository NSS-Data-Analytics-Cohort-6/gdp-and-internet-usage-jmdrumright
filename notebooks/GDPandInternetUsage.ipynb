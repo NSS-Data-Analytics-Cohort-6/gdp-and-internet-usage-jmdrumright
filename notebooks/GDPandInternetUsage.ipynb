{
 "cells": [
  {
   "cell_type": "code",
   "execution_count": 1,
   "id": "2e19bd30",
   "metadata": {},
   "outputs": [
    {
     "data": {
      "text/html": [
       "<div>\n",
       "<style scoped>\n",
       "    .dataframe tbody tr th:only-of-type {\n",
       "        vertical-align: middle;\n",
       "    }\n",
       "\n",
       "    .dataframe tbody tr th {\n",
       "        vertical-align: top;\n",
       "    }\n",
       "\n",
       "    .dataframe thead th {\n",
       "        text-align: right;\n",
       "    }\n",
       "</style>\n",
       "<table border=\"1\" class=\"dataframe\">\n",
       "  <thead>\n",
       "    <tr style=\"text-align: right;\">\n",
       "      <th></th>\n",
       "      <th>Country or Area</th>\n",
       "      <th>Year</th>\n",
       "      <th>Value</th>\n",
       "      <th>Value Footnotes</th>\n",
       "    </tr>\n",
       "  </thead>\n",
       "  <tbody>\n",
       "    <tr>\n",
       "      <th>0</th>\n",
       "      <td>Afghanistan</td>\n",
       "      <td>2019</td>\n",
       "      <td>2065.036398</td>\n",
       "      <td>NaN</td>\n",
       "    </tr>\n",
       "    <tr>\n",
       "      <th>1</th>\n",
       "      <td>Afghanistan</td>\n",
       "      <td>2018</td>\n",
       "      <td>2033.779002</td>\n",
       "      <td>NaN</td>\n",
       "    </tr>\n",
       "    <tr>\n",
       "      <th>2</th>\n",
       "      <td>Afghanistan</td>\n",
       "      <td>2017</td>\n",
       "      <td>2058.383832</td>\n",
       "      <td>NaN</td>\n",
       "    </tr>\n",
       "    <tr>\n",
       "      <th>3</th>\n",
       "      <td>Afghanistan</td>\n",
       "      <td>2016</td>\n",
       "      <td>2057.062164</td>\n",
       "      <td>NaN</td>\n",
       "    </tr>\n",
       "    <tr>\n",
       "      <th>4</th>\n",
       "      <td>Afghanistan</td>\n",
       "      <td>2015</td>\n",
       "      <td>2068.265904</td>\n",
       "      <td>NaN</td>\n",
       "    </tr>\n",
       "  </tbody>\n",
       "</table>\n",
       "</div>"
      ],
      "text/plain": [
       "  Country or Area  Year        Value  Value Footnotes\n",
       "0     Afghanistan  2019  2065.036398              NaN\n",
       "1     Afghanistan  2018  2033.779002              NaN\n",
       "2     Afghanistan  2017  2058.383832              NaN\n",
       "3     Afghanistan  2016  2057.062164              NaN\n",
       "4     Afghanistan  2015  2068.265904              NaN"
      ]
     },
     "execution_count": 1,
     "metadata": {},
     "output_type": "execute_result"
    }
   ],
   "source": [
    "import pandas as pd\n",
    "import numpy as np\n",
    "import matplotlib.pyplot as plt\n",
    "import seaborn as sns\n",
    "%matplotlib inline\n",
    "gdp_df = pd.read_csv(\"../data/gdp_percapita.csv\", nrows=6869)\n",
    "gdp_df.head()"
   ]
  },
  {
   "cell_type": "code",
   "execution_count": 2,
   "id": "8d794298",
   "metadata": {},
   "outputs": [
    {
     "data": {
      "text/html": [
       "<div>\n",
       "<style scoped>\n",
       "    .dataframe tbody tr th:only-of-type {\n",
       "        vertical-align: middle;\n",
       "    }\n",
       "\n",
       "    .dataframe tbody tr th {\n",
       "        vertical-align: top;\n",
       "    }\n",
       "\n",
       "    .dataframe thead th {\n",
       "        text-align: right;\n",
       "    }\n",
       "</style>\n",
       "<table border=\"1\" class=\"dataframe\">\n",
       "  <thead>\n",
       "    <tr style=\"text-align: right;\">\n",
       "      <th></th>\n",
       "      <th>Country or Area</th>\n",
       "      <th>Year</th>\n",
       "      <th>Value</th>\n",
       "      <th>Value Footnotes</th>\n",
       "    </tr>\n",
       "  </thead>\n",
       "  <tbody>\n",
       "    <tr>\n",
       "      <th>0</th>\n",
       "      <td>Afghanistan</td>\n",
       "      <td>2014</td>\n",
       "      <td>6.390000</td>\n",
       "      <td>NaN</td>\n",
       "    </tr>\n",
       "    <tr>\n",
       "      <th>1</th>\n",
       "      <td>Afghanistan</td>\n",
       "      <td>2013</td>\n",
       "      <td>5.900000</td>\n",
       "      <td>NaN</td>\n",
       "    </tr>\n",
       "    <tr>\n",
       "      <th>2</th>\n",
       "      <td>Afghanistan</td>\n",
       "      <td>2012</td>\n",
       "      <td>5.454545</td>\n",
       "      <td>NaN</td>\n",
       "    </tr>\n",
       "    <tr>\n",
       "      <th>3</th>\n",
       "      <td>Afghanistan</td>\n",
       "      <td>2011</td>\n",
       "      <td>5.000000</td>\n",
       "      <td>NaN</td>\n",
       "    </tr>\n",
       "    <tr>\n",
       "      <th>4</th>\n",
       "      <td>Afghanistan</td>\n",
       "      <td>2010</td>\n",
       "      <td>4.000000</td>\n",
       "      <td>NaN</td>\n",
       "    </tr>\n",
       "  </tbody>\n",
       "</table>\n",
       "</div>"
      ],
      "text/plain": [
       "  Country or Area  Year     Value  Value Footnotes\n",
       "0     Afghanistan  2014  6.390000              NaN\n",
       "1     Afghanistan  2013  5.900000              NaN\n",
       "2     Afghanistan  2012  5.454545              NaN\n",
       "3     Afghanistan  2011  5.000000              NaN\n",
       "4     Afghanistan  2010  4.000000              NaN"
      ]
     },
     "execution_count": 2,
     "metadata": {},
     "output_type": "execute_result"
    }
   ],
   "source": [
    "internet_df = pd.read_csv('../data/internet_use.csv',nrows=4496)\n",
    "internet_df.head()"
   ]
  },
  {
   "cell_type": "markdown",
   "id": "88f85467",
   "metadata": {},
   "source": [
    "7. Look at the shape of each DataFrame - how many rows? How many columns?"
   ]
  },
  {
   "cell_type": "code",
   "execution_count": 3,
   "id": "13b17c3c",
   "metadata": {},
   "outputs": [
    {
     "name": "stdout",
     "output_type": "stream",
     "text": [
      "(6869, 4)\n"
     ]
    }
   ],
   "source": [
    "print(gdp_df.shape)"
   ]
  },
  {
   "cell_type": "markdown",
   "id": "1054c1df",
   "metadata": {},
   "source": [
    "gdp_df has 6869 rows and 4 columns"
   ]
  },
  {
   "cell_type": "code",
   "execution_count": 4,
   "id": "e961fd89",
   "metadata": {},
   "outputs": [
    {
     "name": "stdout",
     "output_type": "stream",
     "text": [
      "(4496, 4)\n"
     ]
    }
   ],
   "source": [
    "print(internet_df.shape)"
   ]
  },
  {
   "cell_type": "markdown",
   "id": "6026e1af",
   "metadata": {},
   "source": [
    "internet_df has 4496 rows and 4 columns"
   ]
  },
  {
   "cell_type": "markdown",
   "id": "849983b1",
   "metadata": {},
   "source": [
    "8. Take a look at the datatypes for the columns in each DataFrame."
   ]
  },
  {
   "cell_type": "code",
   "execution_count": 5,
   "id": "cb293c9e",
   "metadata": {},
   "outputs": [
    {
     "name": "stdout",
     "output_type": "stream",
     "text": [
      "Country or Area     object\n",
      "Year                object\n",
      "Value              float64\n",
      "Value Footnotes    float64\n",
      "dtype: object\n"
     ]
    }
   ],
   "source": [
    "print(gdp_df.dtypes)"
   ]
  },
  {
   "cell_type": "code",
   "execution_count": 6,
   "id": "be5d655e",
   "metadata": {},
   "outputs": [
    {
     "name": "stdout",
     "output_type": "stream",
     "text": [
      "Country or Area     object\n",
      "Year                object\n",
      "Value              float64\n",
      "Value Footnotes    float64\n",
      "dtype: object\n"
     ]
    }
   ],
   "source": [
    "print(internet_df.dtypes)"
   ]
  },
  {
   "cell_type": "markdown",
   "id": "0dc725ce",
   "metadata": {},
   "source": [
    "9. Take a look at the last 10 rows of each DataFrame in turn."
   ]
  },
  {
   "cell_type": "code",
   "execution_count": 7,
   "id": "75e25eb1",
   "metadata": {},
   "outputs": [
    {
     "name": "stdout",
     "output_type": "stream",
     "text": [
      "     Country or Area      Year        Value  Value Footnotes\n",
      "6859        Zimbabwe      1998  3653.920016              NaN\n",
      "6860        Zimbabwe      1997  3580.048793              NaN\n",
      "6861        Zimbabwe      1996  3520.430146              NaN\n",
      "6862        Zimbabwe      1995  3226.413930              NaN\n",
      "6863        Zimbabwe      1994  3263.934978              NaN\n",
      "6864        Zimbabwe      1993  3033.504852              NaN\n",
      "6865        Zimbabwe      1992  3054.889178              NaN\n",
      "6866        Zimbabwe      1991  3426.598094              NaN\n",
      "6867        Zimbabwe      1990  3324.348171              NaN\n",
      "6868   footnoteSeqID  Footnote          NaN              NaN\n"
     ]
    }
   ],
   "source": [
    "print(gdp_df.iloc[-10:])"
   ]
  },
  {
   "cell_type": "code",
   "execution_count": 8,
   "id": "23fb9da9",
   "metadata": {},
   "outputs": [
    {
     "name": "stdout",
     "output_type": "stream",
     "text": [
      "     Country or Area      Year     Value  Value Footnotes\n",
      "4486        Zimbabwe      2001  0.799846              NaN\n",
      "4487        Zimbabwe      2000  0.401434              NaN\n",
      "4488        Zimbabwe      1999  0.161676              NaN\n",
      "4489        Zimbabwe      1998  0.081648              NaN\n",
      "4490        Zimbabwe      1997  0.033080              NaN\n",
      "4491        Zimbabwe      1996  0.016790              NaN\n",
      "4492        Zimbabwe      1995  0.007684              NaN\n",
      "4493        Zimbabwe      1994  0.001739              NaN\n",
      "4494        Zimbabwe      1990  0.000000              NaN\n",
      "4495   footnoteSeqID  Footnote       NaN              NaN\n"
     ]
    }
   ],
   "source": [
    "print(internet_df.iloc[-10:])"
   ]
  },
  {
   "cell_type": "markdown",
   "id": "f7d260b9",
   "metadata": {},
   "source": [
    "10. Drop the value footnotes column from both DataFrames. Check that this worked as expected."
   ]
  },
  {
   "cell_type": "code",
   "execution_count": 9,
   "id": "80ed9a66",
   "metadata": {},
   "outputs": [
    {
     "name": "stdout",
     "output_type": "stream",
     "text": [
      "     Country or Area      Year        Value\n",
      "0        Afghanistan      2019  2065.036398\n",
      "1        Afghanistan      2018  2033.779002\n",
      "2        Afghanistan      2017  2058.383832\n",
      "3        Afghanistan      2016  2057.062164\n",
      "4        Afghanistan      2015  2068.265904\n",
      "...              ...       ...          ...\n",
      "6864        Zimbabwe      1993  3033.504852\n",
      "6865        Zimbabwe      1992  3054.889178\n",
      "6866        Zimbabwe      1991  3426.598094\n",
      "6867        Zimbabwe      1990  3324.348171\n",
      "6868   footnoteSeqID  Footnote          NaN\n",
      "\n",
      "[6869 rows x 3 columns]\n",
      "     Country or Area      Year     Value\n",
      "0        Afghanistan      2014  6.390000\n",
      "1        Afghanistan      2013  5.900000\n",
      "2        Afghanistan      2012  5.454545\n",
      "3        Afghanistan      2011  5.000000\n",
      "4        Afghanistan      2010  4.000000\n",
      "...              ...       ...       ...\n",
      "4491        Zimbabwe      1996  0.016790\n",
      "4492        Zimbabwe      1995  0.007684\n",
      "4493        Zimbabwe      1994  0.001739\n",
      "4494        Zimbabwe      1990  0.000000\n",
      "4495   footnoteSeqID  Footnote       NaN\n",
      "\n",
      "[4496 rows x 3 columns]\n"
     ]
    }
   ],
   "source": [
    "gdp_df = gdp_df.drop(['Value Footnotes'], axis = 1)\n",
    "internet_df = internet_df.drop(['Value Footnotes'], axis = 1)\n",
    "print(gdp_df)\n",
    "print(internet_df)"
   ]
  },
  {
   "cell_type": "markdown",
   "id": "89948ed8",
   "metadata": {},
   "source": [
    "11. Change the columns for the GDP Per Capita DataFrame to ‘Country’, ‘Year’, and ‘GDP_Per_Capita’."
   ]
  },
  {
   "cell_type": "code",
   "execution_count": 10,
   "id": "1ec34023",
   "metadata": {
    "scrolled": true
   },
   "outputs": [
    {
     "name": "stdout",
     "output_type": "stream",
     "text": [
      "            Country      Year  GDP_Per_Capita\n",
      "0       Afghanistan      2019     2065.036398\n",
      "1       Afghanistan      2018     2033.779002\n",
      "2       Afghanistan      2017     2058.383832\n",
      "3       Afghanistan      2016     2057.062164\n",
      "4       Afghanistan      2015     2068.265904\n",
      "...             ...       ...             ...\n",
      "6864       Zimbabwe      1993     3033.504852\n",
      "6865       Zimbabwe      1992     3054.889178\n",
      "6866       Zimbabwe      1991     3426.598094\n",
      "6867       Zimbabwe      1990     3324.348171\n",
      "6868  footnoteSeqID  Footnote             NaN\n",
      "\n",
      "[6869 rows x 3 columns]\n"
     ]
    }
   ],
   "source": [
    "gdp_df = gdp_df.rename(columns={\"Country or Area\":\"Country\", 'Value':'GDP_Per_Capita'})\n",
    "print(gdp_df)"
   ]
  },
  {
   "cell_type": "markdown",
   "id": "dfcc1982",
   "metadata": {},
   "source": [
    "12. Change the columns for the Internet Users DataFrame to ‘Country’, ‘Year’, and ‘Internet_Users_Pct’."
   ]
  },
  {
   "cell_type": "code",
   "execution_count": 11,
   "id": "1fa6ca17",
   "metadata": {},
   "outputs": [
    {
     "name": "stdout",
     "output_type": "stream",
     "text": [
      "            Country      Year  Internet_Users_Pct\n",
      "0       Afghanistan      2014            6.390000\n",
      "1       Afghanistan      2013            5.900000\n",
      "2       Afghanistan      2012            5.454545\n",
      "3       Afghanistan      2011            5.000000\n",
      "4       Afghanistan      2010            4.000000\n",
      "...             ...       ...                 ...\n",
      "4491       Zimbabwe      1996            0.016790\n",
      "4492       Zimbabwe      1995            0.007684\n",
      "4493       Zimbabwe      1994            0.001739\n",
      "4494       Zimbabwe      1990            0.000000\n",
      "4495  footnoteSeqID  Footnote                 NaN\n",
      "\n",
      "[4496 rows x 3 columns]\n"
     ]
    }
   ],
   "source": [
    "internet_df = internet_df.rename(columns={\"Country or Area\": \"Country\", 'Value':'Internet_Users_Pct'})\n",
    "print(internet_df)"
   ]
  },
  {
   "cell_type": "markdown",
   "id": "6255904e",
   "metadata": {},
   "source": [
    "13. Merge the two DataFrames to one. Merge all rows from each of the two DataFrames. Call the new DataFrame gdp_and_internet_use."
   ]
  },
  {
   "cell_type": "code",
   "execution_count": 12,
   "id": "c6fa7999",
   "metadata": {},
   "outputs": [
    {
     "name": "stdout",
     "output_type": "stream",
     "text": [
      "            Country      Year  GDP_Per_Capita  Internet_Users_Pct\n",
      "0       Afghanistan      2019     2065.036398                 NaN\n",
      "1       Afghanistan      2018     2033.779002                 NaN\n",
      "2       Afghanistan      2017     2058.383832                 NaN\n",
      "3       Afghanistan      2016     2057.062164                 NaN\n",
      "4       Afghanistan      2015     2068.265904                 NaN\n",
      "...             ...       ...             ...                 ...\n",
      "4491       Zimbabwe      1996             NaN            0.016790\n",
      "4492       Zimbabwe      1995             NaN            0.007684\n",
      "4493       Zimbabwe      1994             NaN            0.001739\n",
      "4494       Zimbabwe      1990             NaN            0.000000\n",
      "4495  footnoteSeqID  Footnote             NaN                 NaN\n",
      "\n",
      "[11365 rows x 4 columns]\n"
     ]
    }
   ],
   "source": [
    "gdp_and_internet_use = pd.concat([gdp_df, internet_df])\n",
    "ignore_index=True\n",
    "print(gdp_and_internet_use)"
   ]
  },
  {
   "cell_type": "markdown",
   "id": "bfb90ecc",
   "metadata": {},
   "source": [
    "14. Look at the first five rows of your new DataFrame to confirm it merged correctly."
   ]
  },
  {
   "cell_type": "code",
   "execution_count": 13,
   "id": "9df1cf0e",
   "metadata": {},
   "outputs": [
    {
     "name": "stdout",
     "output_type": "stream",
     "text": [
      "       Country  Year  GDP_Per_Capita  Internet_Users_Pct\n",
      "0  Afghanistan  2019     2065.036398                 NaN\n",
      "1  Afghanistan  2018     2033.779002                 NaN\n",
      "2  Afghanistan  2017     2058.383832                 NaN\n",
      "3  Afghanistan  2016     2057.062164                 NaN\n",
      "4  Afghanistan  2015     2068.265904                 NaN\n"
     ]
    }
   ],
   "source": [
    "print(gdp_and_internet_use.head())"
   ]
  },
  {
   "cell_type": "markdown",
   "id": "00df9a5f",
   "metadata": {},
   "source": [
    "15. Look at the last five rows to make sure the data is clean and as expected."
   ]
  },
  {
   "cell_type": "code",
   "execution_count": 14,
   "id": "2c9e1196",
   "metadata": {},
   "outputs": [
    {
     "name": "stdout",
     "output_type": "stream",
     "text": [
      "            Country      Year  GDP_Per_Capita  Internet_Users_Pct\n",
      "4491       Zimbabwe      1996             NaN            0.016790\n",
      "4492       Zimbabwe      1995             NaN            0.007684\n",
      "4493       Zimbabwe      1994             NaN            0.001739\n",
      "4494       Zimbabwe      1990             NaN            0.000000\n",
      "4495  footnoteSeqID  Footnote             NaN                 NaN\n"
     ]
    }
   ],
   "source": [
    "print(gdp_and_internet_use.tail())"
   ]
  },
  {
   "cell_type": "markdown",
   "id": "c5e370d1",
   "metadata": {},
   "source": [
    "16. Subset the combined DataFrame to keep only the data for 2004, 2009, and 2014. Check that this happened correctly."
   ]
  },
  {
   "cell_type": "code",
   "execution_count": 15,
   "id": "c3e4562b",
   "metadata": {},
   "outputs": [
    {
     "name": "stdout",
     "output_type": "stream",
     "text": [
      "          Country  Year  GDP_Per_Capita  Internet_Users_Pct\n",
      "5     Afghanistan  2014     2102.385234                 NaN\n",
      "10    Afghanistan  2009     1758.904043                 NaN\n",
      "15    Afghanistan  2004     1200.278256                 NaN\n",
      "23        Albania  2014    11623.866679                 NaN\n",
      "28        Albania  2009    10346.864199                 NaN\n",
      "...           ...   ...             ...                 ...\n",
      "4456       Zambia  2009             NaN            6.310000\n",
      "4461       Zambia  2004             NaN            2.013550\n",
      "4473     Zimbabwe  2014             NaN           19.890000\n",
      "4478     Zimbabwe  2009             NaN           11.360000\n",
      "4483     Zimbabwe  2004             NaN            6.564045\n",
      "\n",
      "[1312 rows x 4 columns]\n"
     ]
    }
   ],
   "source": [
    "array = ['2004', '2009', '2014']\n",
    "print(gdp_and_internet_use.loc[gdp_and_internet_use['Year'].isin(array)])"
   ]
  },
  {
   "cell_type": "markdown",
   "id": "3258d4f6",
   "metadata": {},
   "source": [
    "17. Create three new DataFrames, one for 2004, one for 2009, and one for 2014. Give them meaningful names that aren't too long."
   ]
  },
  {
   "cell_type": "code",
   "execution_count": 16,
   "id": "68df1136",
   "metadata": {},
   "outputs": [
    {
     "name": "stdout",
     "output_type": "stream",
     "text": [
      "                 Country  Year  GDP_Per_Capita  Internet_Users_Pct\n",
      "15           Afghanistan  2004     1200.278256                 NaN\n",
      "33               Albania  2004     7604.838002                 NaN\n",
      "63               Algeria  2004    10058.435939                 NaN\n",
      "93                Angola  2004     5593.241537                 NaN\n",
      "123  Antigua and Barbuda  2004    18745.681534                 NaN\n",
      "                 Country  Year  GDP_Per_Capita  Internet_Users_Pct\n",
      "10           Afghanistan  2009     1758.904043                 NaN\n",
      "28               Albania  2009    10346.864199                 NaN\n",
      "58               Algeria  2009    10782.361398                 NaN\n",
      "88                Angola  2009     7643.493749                 NaN\n",
      "118  Antigua and Barbuda  2009    20046.839017                 NaN\n",
      "                 Country  Year  GDP_Per_Capita  Internet_Users_Pct\n",
      "5            Afghanistan  2014     2102.385234                 NaN\n",
      "23               Albania  2014    11623.866679                 NaN\n",
      "53               Algeria  2014    11512.705405                 NaN\n",
      "83                Angola  2014     8239.828837                 NaN\n",
      "113  Antigua and Barbuda  2014    18104.241470                 NaN\n"
     ]
    }
   ],
   "source": [
    "four = gdp_and_internet_use.loc[gdp_and_internet_use['Year'] == '2004']\n",
    "nine = gdp_and_internet_use.loc[gdp_and_internet_use['Year'] == '2009']\n",
    "fourteen = gdp_and_internet_use.loc[gdp_and_internet_use['Year'] == '2014']\n",
    "\n",
    "print(four.head())\n",
    "print(nine.head())\n",
    "print(fourteen.head())"
   ]
  },
  {
   "cell_type": "markdown",
   "id": "6f5f8175",
   "metadata": {},
   "source": [
    "18. Which country had the highest percentage of internet users in 2014? What was the percentage? (Try typing the first 3 letters of your DataFrame name and hitting the tab key for auto-complete options)."
   ]
  },
  {
   "cell_type": "code",
   "execution_count": null,
   "id": "28ff71e8",
   "metadata": {},
   "outputs": [],
   "source": []
  }
 ],
 "metadata": {
  "kernelspec": {
   "display_name": "Python 3 (ipykernel)",
   "language": "python",
   "name": "python3"
  },
  "language_info": {
   "codemirror_mode": {
    "name": "ipython",
    "version": 3
   },
   "file_extension": ".py",
   "mimetype": "text/x-python",
   "name": "python",
   "nbconvert_exporter": "python",
   "pygments_lexer": "ipython3",
   "version": "3.9.7"
  }
 },
 "nbformat": 4,
 "nbformat_minor": 5
}
