{
 "cells": [
  {
   "cell_type": "code",
   "execution_count": 1,
   "id": "2e19bd30",
   "metadata": {},
   "outputs": [
    {
     "data": {
      "text/html": [
       "<div>\n",
       "<style scoped>\n",
       "    .dataframe tbody tr th:only-of-type {\n",
       "        vertical-align: middle;\n",
       "    }\n",
       "\n",
       "    .dataframe tbody tr th {\n",
       "        vertical-align: top;\n",
       "    }\n",
       "\n",
       "    .dataframe thead th {\n",
       "        text-align: right;\n",
       "    }\n",
       "</style>\n",
       "<table border=\"1\" class=\"dataframe\">\n",
       "  <thead>\n",
       "    <tr style=\"text-align: right;\">\n",
       "      <th></th>\n",
       "      <th>Country or Area</th>\n",
       "      <th>Year</th>\n",
       "      <th>Value</th>\n",
       "      <th>Value Footnotes</th>\n",
       "    </tr>\n",
       "  </thead>\n",
       "  <tbody>\n",
       "    <tr>\n",
       "      <th>0</th>\n",
       "      <td>Afghanistan</td>\n",
       "      <td>2019</td>\n",
       "      <td>2065.036398</td>\n",
       "      <td>NaN</td>\n",
       "    </tr>\n",
       "    <tr>\n",
       "      <th>1</th>\n",
       "      <td>Afghanistan</td>\n",
       "      <td>2018</td>\n",
       "      <td>2033.779002</td>\n",
       "      <td>NaN</td>\n",
       "    </tr>\n",
       "    <tr>\n",
       "      <th>2</th>\n",
       "      <td>Afghanistan</td>\n",
       "      <td>2017</td>\n",
       "      <td>2058.383832</td>\n",
       "      <td>NaN</td>\n",
       "    </tr>\n",
       "    <tr>\n",
       "      <th>3</th>\n",
       "      <td>Afghanistan</td>\n",
       "      <td>2016</td>\n",
       "      <td>2057.062164</td>\n",
       "      <td>NaN</td>\n",
       "    </tr>\n",
       "    <tr>\n",
       "      <th>4</th>\n",
       "      <td>Afghanistan</td>\n",
       "      <td>2015</td>\n",
       "      <td>2068.265904</td>\n",
       "      <td>NaN</td>\n",
       "    </tr>\n",
       "  </tbody>\n",
       "</table>\n",
       "</div>"
      ],
      "text/plain": [
       "  Country or Area  Year        Value  Value Footnotes\n",
       "0     Afghanistan  2019  2065.036398              NaN\n",
       "1     Afghanistan  2018  2033.779002              NaN\n",
       "2     Afghanistan  2017  2058.383832              NaN\n",
       "3     Afghanistan  2016  2057.062164              NaN\n",
       "4     Afghanistan  2015  2068.265904              NaN"
      ]
     },
     "execution_count": 1,
     "metadata": {},
     "output_type": "execute_result"
    }
   ],
   "source": [
    "import pandas as pd\n",
    "import numpy as np\n",
    "import matplotlib.pyplot as plt\n",
    "import seaborn as sns\n",
    "%matplotlib inline\n",
    "gdp_df = pd.read_csv(\"../data/gdp_percapita.csv\", nrows=6869)\n",
    "gdp_df.head()"
   ]
  },
  {
   "cell_type": "code",
   "execution_count": 2,
   "id": "8d794298",
   "metadata": {},
   "outputs": [
    {
     "data": {
      "text/html": [
       "<div>\n",
       "<style scoped>\n",
       "    .dataframe tbody tr th:only-of-type {\n",
       "        vertical-align: middle;\n",
       "    }\n",
       "\n",
       "    .dataframe tbody tr th {\n",
       "        vertical-align: top;\n",
       "    }\n",
       "\n",
       "    .dataframe thead th {\n",
       "        text-align: right;\n",
       "    }\n",
       "</style>\n",
       "<table border=\"1\" class=\"dataframe\">\n",
       "  <thead>\n",
       "    <tr style=\"text-align: right;\">\n",
       "      <th></th>\n",
       "      <th>Country or Area</th>\n",
       "      <th>Year</th>\n",
       "      <th>Value</th>\n",
       "      <th>Value Footnotes</th>\n",
       "    </tr>\n",
       "  </thead>\n",
       "  <tbody>\n",
       "    <tr>\n",
       "      <th>0</th>\n",
       "      <td>Afghanistan</td>\n",
       "      <td>2014</td>\n",
       "      <td>6.390000</td>\n",
       "      <td>NaN</td>\n",
       "    </tr>\n",
       "    <tr>\n",
       "      <th>1</th>\n",
       "      <td>Afghanistan</td>\n",
       "      <td>2013</td>\n",
       "      <td>5.900000</td>\n",
       "      <td>NaN</td>\n",
       "    </tr>\n",
       "    <tr>\n",
       "      <th>2</th>\n",
       "      <td>Afghanistan</td>\n",
       "      <td>2012</td>\n",
       "      <td>5.454545</td>\n",
       "      <td>NaN</td>\n",
       "    </tr>\n",
       "    <tr>\n",
       "      <th>3</th>\n",
       "      <td>Afghanistan</td>\n",
       "      <td>2011</td>\n",
       "      <td>5.000000</td>\n",
       "      <td>NaN</td>\n",
       "    </tr>\n",
       "    <tr>\n",
       "      <th>4</th>\n",
       "      <td>Afghanistan</td>\n",
       "      <td>2010</td>\n",
       "      <td>4.000000</td>\n",
       "      <td>NaN</td>\n",
       "    </tr>\n",
       "  </tbody>\n",
       "</table>\n",
       "</div>"
      ],
      "text/plain": [
       "  Country or Area  Year     Value  Value Footnotes\n",
       "0     Afghanistan  2014  6.390000              NaN\n",
       "1     Afghanistan  2013  5.900000              NaN\n",
       "2     Afghanistan  2012  5.454545              NaN\n",
       "3     Afghanistan  2011  5.000000              NaN\n",
       "4     Afghanistan  2010  4.000000              NaN"
      ]
     },
     "execution_count": 2,
     "metadata": {},
     "output_type": "execute_result"
    }
   ],
   "source": [
    "internet_df = pd.read_csv('../data/internet_use.csv',nrows=4496)\n",
    "internet_df.head()"
   ]
  },
  {
   "cell_type": "markdown",
   "id": "88f85467",
   "metadata": {},
   "source": [
    "# 7. Look at the shape of each DataFrame - how many rows? How many columns?"
   ]
  },
  {
   "cell_type": "code",
   "execution_count": 3,
   "id": "13b17c3c",
   "metadata": {},
   "outputs": [
    {
     "name": "stdout",
     "output_type": "stream",
     "text": [
      "(6869, 4)\n"
     ]
    }
   ],
   "source": [
    "print(gdp_df.shape)"
   ]
  },
  {
   "cell_type": "markdown",
   "id": "1054c1df",
   "metadata": {},
   "source": [
    "gdp_df has 6869 rows and 4 columns"
   ]
  },
  {
   "cell_type": "code",
   "execution_count": 4,
   "id": "e961fd89",
   "metadata": {},
   "outputs": [
    {
     "name": "stdout",
     "output_type": "stream",
     "text": [
      "(4496, 4)\n"
     ]
    }
   ],
   "source": [
    "print(internet_df.shape)"
   ]
  },
  {
   "cell_type": "markdown",
   "id": "6026e1af",
   "metadata": {},
   "source": [
    "internet_df has 4496 rows and 4 columns"
   ]
  },
  {
   "cell_type": "markdown",
   "id": "849983b1",
   "metadata": {},
   "source": [
    "# 8. Take a look at the datatypes for the columns in each DataFrame."
   ]
  },
  {
   "cell_type": "code",
   "execution_count": 5,
   "id": "cb293c9e",
   "metadata": {},
   "outputs": [
    {
     "name": "stdout",
     "output_type": "stream",
     "text": [
      "Country or Area     object\n",
      "Year                object\n",
      "Value              float64\n",
      "Value Footnotes    float64\n",
      "dtype: object\n"
     ]
    }
   ],
   "source": [
    "print(gdp_df.dtypes)"
   ]
  },
  {
   "cell_type": "code",
   "execution_count": 6,
   "id": "be5d655e",
   "metadata": {},
   "outputs": [
    {
     "name": "stdout",
     "output_type": "stream",
     "text": [
      "Country or Area     object\n",
      "Year                object\n",
      "Value              float64\n",
      "Value Footnotes    float64\n",
      "dtype: object\n"
     ]
    }
   ],
   "source": [
    "print(internet_df.dtypes)"
   ]
  },
  {
   "cell_type": "markdown",
   "id": "0dc725ce",
   "metadata": {},
   "source": [
    "# 9. Take a look at the last 10 rows of each DataFrame in turn."
   ]
  },
  {
   "cell_type": "code",
   "execution_count": 7,
   "id": "75e25eb1",
   "metadata": {},
   "outputs": [
    {
     "name": "stdout",
     "output_type": "stream",
     "text": [
      "     Country or Area      Year        Value  Value Footnotes\n",
      "6858        Zimbabwe      1999  3600.849291              NaN\n",
      "6859        Zimbabwe      1998  3653.920016              NaN\n",
      "6860        Zimbabwe      1997  3580.048793              NaN\n",
      "6861        Zimbabwe      1996  3520.430146              NaN\n",
      "6862        Zimbabwe      1995  3226.413930              NaN\n",
      "6863        Zimbabwe      1994  3263.934978              NaN\n",
      "6864        Zimbabwe      1993  3033.504852              NaN\n",
      "6865        Zimbabwe      1992  3054.889178              NaN\n",
      "6866        Zimbabwe      1991  3426.598094              NaN\n",
      "6867        Zimbabwe      1990  3324.348171              NaN\n",
      "6868   footnoteSeqID  Footnote          NaN              NaN\n"
     ]
    }
   ],
   "source": [
    "print(gdp_df.tail(11))"
   ]
  },
  {
   "cell_type": "code",
   "execution_count": 8,
   "id": "23fb9da9",
   "metadata": {},
   "outputs": [
    {
     "name": "stdout",
     "output_type": "stream",
     "text": [
      "     Country or Area      Year     Value  Value Footnotes\n",
      "4485        Zimbabwe      2002  3.994356              NaN\n",
      "4486        Zimbabwe      2001  0.799846              NaN\n",
      "4487        Zimbabwe      2000  0.401434              NaN\n",
      "4488        Zimbabwe      1999  0.161676              NaN\n",
      "4489        Zimbabwe      1998  0.081648              NaN\n",
      "4490        Zimbabwe      1997  0.033080              NaN\n",
      "4491        Zimbabwe      1996  0.016790              NaN\n",
      "4492        Zimbabwe      1995  0.007684              NaN\n",
      "4493        Zimbabwe      1994  0.001739              NaN\n",
      "4494        Zimbabwe      1990  0.000000              NaN\n",
      "4495   footnoteSeqID  Footnote       NaN              NaN\n"
     ]
    }
   ],
   "source": [
    "print(internet_df.tail(11))"
   ]
  },
  {
   "cell_type": "markdown",
   "id": "f7d260b9",
   "metadata": {},
   "source": [
    "# 10. Drop the value footnotes column from both DataFrames. Check that this worked as expected."
   ]
  },
  {
   "cell_type": "code",
   "execution_count": 9,
   "id": "80ed9a66",
   "metadata": {},
   "outputs": [
    {
     "name": "stdout",
     "output_type": "stream",
     "text": [
      "     Country or Area      Year        Value\n",
      "0        Afghanistan      2019  2065.036398\n",
      "1        Afghanistan      2018  2033.779002\n",
      "2        Afghanistan      2017  2058.383832\n",
      "3        Afghanistan      2016  2057.062164\n",
      "4        Afghanistan      2015  2068.265904\n",
      "...              ...       ...          ...\n",
      "6864        Zimbabwe      1993  3033.504852\n",
      "6865        Zimbabwe      1992  3054.889178\n",
      "6866        Zimbabwe      1991  3426.598094\n",
      "6867        Zimbabwe      1990  3324.348171\n",
      "6868   footnoteSeqID  Footnote          NaN\n",
      "\n",
      "[6869 rows x 3 columns]\n",
      "     Country or Area      Year     Value\n",
      "0        Afghanistan      2014  6.390000\n",
      "1        Afghanistan      2013  5.900000\n",
      "2        Afghanistan      2012  5.454545\n",
      "3        Afghanistan      2011  5.000000\n",
      "4        Afghanistan      2010  4.000000\n",
      "...              ...       ...       ...\n",
      "4491        Zimbabwe      1996  0.016790\n",
      "4492        Zimbabwe      1995  0.007684\n",
      "4493        Zimbabwe      1994  0.001739\n",
      "4494        Zimbabwe      1990  0.000000\n",
      "4495   footnoteSeqID  Footnote       NaN\n",
      "\n",
      "[4496 rows x 3 columns]\n"
     ]
    }
   ],
   "source": [
    "gdp_df = gdp_df.drop(['Value Footnotes'], axis = 1)\n",
    "internet_df = internet_df.drop(['Value Footnotes'], axis = 1)\n",
    "print(gdp_df)\n",
    "print(internet_df)"
   ]
  },
  {
   "cell_type": "markdown",
   "id": "89948ed8",
   "metadata": {},
   "source": [
    "# 11. Change the columns for the GDP Per Capita DataFrame to ‘Country’, ‘Year’, and ‘GDP_Per_Capita’."
   ]
  },
  {
   "cell_type": "code",
   "execution_count": 10,
   "id": "1ec34023",
   "metadata": {
    "scrolled": true
   },
   "outputs": [
    {
     "name": "stdout",
     "output_type": "stream",
     "text": [
      "            Country      Year  GDP_Per_Capita\n",
      "0       Afghanistan      2019     2065.036398\n",
      "1       Afghanistan      2018     2033.779002\n",
      "2       Afghanistan      2017     2058.383832\n",
      "3       Afghanistan      2016     2057.062164\n",
      "4       Afghanistan      2015     2068.265904\n",
      "...             ...       ...             ...\n",
      "6864       Zimbabwe      1993     3033.504852\n",
      "6865       Zimbabwe      1992     3054.889178\n",
      "6866       Zimbabwe      1991     3426.598094\n",
      "6867       Zimbabwe      1990     3324.348171\n",
      "6868  footnoteSeqID  Footnote             NaN\n",
      "\n",
      "[6869 rows x 3 columns]\n"
     ]
    }
   ],
   "source": [
    "gdp_df = gdp_df.rename(columns={\"Country or Area\":\"Country\", 'Value':'GDP_Per_Capita'})\n",
    "print(gdp_df)"
   ]
  },
  {
   "cell_type": "markdown",
   "id": "dfcc1982",
   "metadata": {},
   "source": [
    "# 12. Change the columns for the Internet Users DataFrame to ‘Country’, ‘Year’, and ‘Internet_Users_Pct’."
   ]
  },
  {
   "cell_type": "code",
   "execution_count": 11,
   "id": "1fa6ca17",
   "metadata": {},
   "outputs": [
    {
     "name": "stdout",
     "output_type": "stream",
     "text": [
      "            Country      Year  Internet_Users_Pct\n",
      "0       Afghanistan      2014            6.390000\n",
      "1       Afghanistan      2013            5.900000\n",
      "2       Afghanistan      2012            5.454545\n",
      "3       Afghanistan      2011            5.000000\n",
      "4       Afghanistan      2010            4.000000\n",
      "...             ...       ...                 ...\n",
      "4491       Zimbabwe      1996            0.016790\n",
      "4492       Zimbabwe      1995            0.007684\n",
      "4493       Zimbabwe      1994            0.001739\n",
      "4494       Zimbabwe      1990            0.000000\n",
      "4495  footnoteSeqID  Footnote                 NaN\n",
      "\n",
      "[4496 rows x 3 columns]\n"
     ]
    }
   ],
   "source": [
    "internet_df = internet_df.rename(columns={\"Country or Area\": \"Country\", 'Value':'Internet_Users_Pct'})\n",
    "print(internet_df)"
   ]
  },
  {
   "cell_type": "markdown",
   "id": "6255904e",
   "metadata": {},
   "source": [
    "# 13. Merge the two DataFrames to one. Merge all rows from each of the two DataFrames. Call the new DataFrame gdp_and_internet_use."
   ]
  },
  {
   "cell_type": "code",
   "execution_count": 12,
   "id": "c6fa7999",
   "metadata": {},
   "outputs": [
    {
     "name": "stdout",
     "output_type": "stream",
     "text": [
      "          Country  Year  GDP_Per_Capita  Internet_Users_Pct\n",
      "0     Afghanistan  2019     2065.036398                 NaN\n",
      "1     Afghanistan  2018     2033.779002                 NaN\n",
      "2     Afghanistan  2017     2058.383832                 NaN\n",
      "3     Afghanistan  2016     2057.062164                 NaN\n",
      "4     Afghanistan  2015     2068.265904                 NaN\n",
      "...           ...   ...             ...                 ...\n",
      "7901        Yemen  1999             NaN            0.056629\n",
      "7902        Yemen  1998             NaN            0.023323\n",
      "7903        Yemen  1997             NaN            0.015025\n",
      "7904        Yemen  1996             NaN            0.000621\n",
      "7905        Yemen  1990             NaN            0.000000\n",
      "\n",
      "[7906 rows x 4 columns]\n"
     ]
    }
   ],
   "source": [
    "gdp_and_internet_use = pd.merge(gdp_df, internet_df, how=\"outer\", on=[\"Country\", \"Year\"])\n",
    "print(gdp_and_internet_use)"
   ]
  },
  {
   "cell_type": "markdown",
   "id": "bfb90ecc",
   "metadata": {},
   "source": [
    "# 14. Look at the first five rows of your new DataFrame to confirm it merged correctly."
   ]
  },
  {
   "cell_type": "code",
   "execution_count": 13,
   "id": "9df1cf0e",
   "metadata": {},
   "outputs": [
    {
     "name": "stdout",
     "output_type": "stream",
     "text": [
      "       Country  Year  GDP_Per_Capita  Internet_Users_Pct\n",
      "0  Afghanistan  2019     2065.036398                 NaN\n",
      "1  Afghanistan  2018     2033.779002                 NaN\n",
      "2  Afghanistan  2017     2058.383832                 NaN\n",
      "3  Afghanistan  2016     2057.062164                 NaN\n",
      "4  Afghanistan  2015     2068.265904                 NaN\n"
     ]
    }
   ],
   "source": [
    "print(gdp_and_internet_use.head())"
   ]
  },
  {
   "cell_type": "markdown",
   "id": "00df9a5f",
   "metadata": {},
   "source": [
    "# 15. Look at the last five rows to make sure the data is clean and as expected."
   ]
  },
  {
   "cell_type": "code",
   "execution_count": 14,
   "id": "2c9e1196",
   "metadata": {},
   "outputs": [
    {
     "name": "stdout",
     "output_type": "stream",
     "text": [
      "     Country  Year  GDP_Per_Capita  Internet_Users_Pct\n",
      "7901   Yemen  1999             NaN            0.056629\n",
      "7902   Yemen  1998             NaN            0.023323\n",
      "7903   Yemen  1997             NaN            0.015025\n",
      "7904   Yemen  1996             NaN            0.000621\n",
      "7905   Yemen  1990             NaN            0.000000\n"
     ]
    }
   ],
   "source": [
    "print(gdp_and_internet_use.tail())"
   ]
  },
  {
   "cell_type": "markdown",
   "id": "c5e370d1",
   "metadata": {},
   "source": [
    "# 16. Subset the combined DataFrame to keep only the data for 2004, 2009, and 2014. Check that this happened correctly."
   ]
  },
  {
   "cell_type": "code",
   "execution_count": 15,
   "id": "c3e4562b",
   "metadata": {},
   "outputs": [
    {
     "name": "stdout",
     "output_type": "stream",
     "text": [
      "                    Country  Year  GDP_Per_Capita  Internet_Users_Pct\n",
      "5               Afghanistan  2014     2102.385234            6.390000\n",
      "10              Afghanistan  2009     1758.904043            3.550000\n",
      "15              Afghanistan  2004     1200.278256            0.105809\n",
      "23                  Albania  2014    11623.866679           60.100000\n",
      "28                  Albania  2009    10346.864199           41.200000\n",
      "...                     ...   ...             ...                 ...\n",
      "7869  Virgin Islands (U.S.)  2009             NaN           27.396510\n",
      "7874  Virgin Islands (U.S.)  2004             NaN           27.377009\n",
      "7886                  Yemen  2014             NaN           22.550000\n",
      "7891                  Yemen  2009             NaN            9.960000\n",
      "7896                  Yemen  2004             NaN            0.881223\n",
      "\n",
      "[830 rows x 4 columns]\n"
     ]
    }
   ],
   "source": [
    "array = ['2004', '2009', '2014']\n",
    "print(gdp_and_internet_use.loc[gdp_and_internet_use['Year'].isin(array)])"
   ]
  },
  {
   "cell_type": "markdown",
   "id": "349802f7",
   "metadata": {},
   "source": [
    "Maggie / Abigail's version (one-line):"
   ]
  },
  {
   "cell_type": "code",
   "execution_count": 16,
   "id": "c9f7ebc8",
   "metadata": {},
   "outputs": [
    {
     "name": "stdout",
     "output_type": "stream",
     "text": [
      "                    Country  Year  GDP_Per_Capita  Internet_Users_Pct\n",
      "5               Afghanistan  2014     2102.385234            6.390000\n",
      "10              Afghanistan  2009     1758.904043            3.550000\n",
      "15              Afghanistan  2004     1200.278256            0.105809\n",
      "23                  Albania  2014    11623.866679           60.100000\n",
      "28                  Albania  2009    10346.864199           41.200000\n",
      "...                     ...   ...             ...                 ...\n",
      "7869  Virgin Islands (U.S.)  2009             NaN           27.396510\n",
      "7874  Virgin Islands (U.S.)  2004             NaN           27.377009\n",
      "7886                  Yemen  2014             NaN           22.550000\n",
      "7891                  Yemen  2009             NaN            9.960000\n",
      "7896                  Yemen  2004             NaN            0.881223\n",
      "\n",
      "[830 rows x 4 columns]\n"
     ]
    }
   ],
   "source": [
    "newdf= gdp_and_internet_use[gdp_and_internet_use['Year'].isin(['2004', '2009', '2014'])]\n",
    "print(newdf)"
   ]
  },
  {
   "cell_type": "markdown",
   "id": "3258d4f6",
   "metadata": {},
   "source": [
    "# 17. Create three new DataFrames, one for 2004, one for 2009, and one for 2014. Give them meaningful names that aren't too long."
   ]
  },
  {
   "cell_type": "code",
   "execution_count": 17,
   "id": "68df1136",
   "metadata": {},
   "outputs": [
    {
     "name": "stdout",
     "output_type": "stream",
     "text": [
      "                 Country  Year  GDP_Per_Capita  Internet_Users_Pct\n",
      "15           Afghanistan  2004     1200.278256            0.105809\n",
      "33               Albania  2004     7604.838002            2.420388\n",
      "63               Algeria  2004    10058.435939            4.634475\n",
      "93                Angola  2004     5593.241537            0.464815\n",
      "123  Antigua and Barbuda  2004    18745.681534           24.266544\n",
      "                 Country  Year  GDP_Per_Capita  Internet_Users_Pct\n",
      "10           Afghanistan  2009     1758.904043                3.55\n",
      "28               Albania  2009    10346.864199               41.20\n",
      "58               Algeria  2009    10782.361398               11.23\n",
      "88                Angola  2009     7643.493749                6.00\n",
      "118  Antigua and Barbuda  2009    20046.839017               42.00\n",
      "                 Country  Year  GDP_Per_Capita  Internet_Users_Pct\n",
      "5            Afghanistan  2014     2102.385234                6.39\n",
      "23               Albania  2014    11623.866679               60.10\n",
      "53               Algeria  2014    11512.705405               18.09\n",
      "83                Angola  2014     8239.828837               21.26\n",
      "113  Antigua and Barbuda  2014    18104.241470               64.00\n"
     ]
    }
   ],
   "source": [
    "four = gdp_and_internet_use.loc[gdp_and_internet_use['Year'] == '2004']\n",
    "nine = gdp_and_internet_use.loc[gdp_and_internet_use['Year'] == '2009']\n",
    "fourteen = gdp_and_internet_use.loc[gdp_and_internet_use['Year'] == '2014']\n",
    "\n",
    "print(four.head())\n",
    "print(nine.head())\n",
    "print(fourteen.head())"
   ]
  },
  {
   "cell_type": "markdown",
   "id": "6f5f8175",
   "metadata": {},
   "source": [
    "# 18. Which country had the highest percentage of internet users in 2014? What was the percentage? (Try typing the first 3 letters of your DataFrame name and hitting the tab key for auto-complete options)."
   ]
  },
  {
   "cell_type": "code",
   "execution_count": 43,
   "id": "28ff71e8",
   "metadata": {},
   "outputs": [
    {
     "name": "stdout",
     "output_type": "stream",
     "text": [
      "                                        GDP_Per_Capita\n",
      "Internet_Users_Pct Country                            \n",
      "98.16              Iceland                49652.149500\n",
      "96.80              Bermuda                77361.104881\n",
      "96.30              Norway                 62589.373548\n",
      "95.99              Denmark                52214.537753\n",
      "95.90              Andorra                    0.000000\n",
      "...                                                ...\n",
      "NaN                Tuvalu                  3450.793169\n",
      "                   Upper middle income    14275.343977\n",
      "                   Vietnam                 6098.489609\n",
      "                   West Bank and Gaza      5967.073437\n",
      "                   World                  15189.648507\n",
      "\n",
      "[277 rows x 1 columns]\n"
     ]
    }
   ],
   "source": [
    "fourteen_top_int = fourteen.groupby(by=[\"Internet_Users_Pct\", \"Country\"], dropna=False).sum()\n",
    "fourteen_top_int = fourteen_top_int.sort_values([\"Internet_Users_Pct\"], ascending=[False])\n",
    "print(fourteen_top_int)"
   ]
  },
  {
   "cell_type": "markdown",
   "id": "d11e825f",
   "metadata": {},
   "source": [
    "Iceland had the highest percentage of internet users in 2014 at 98.14%."
   ]
  },
  {
   "cell_type": "markdown",
   "id": "b3482117",
   "metadata": {},
   "source": [
    "# 19. Which country had the lowest percentage of internet users in 2014? What was the percentage?"
   ]
  },
  {
   "cell_type": "code",
   "execution_count": 44,
   "id": "45a9028b",
   "metadata": {},
   "outputs": [
    {
     "name": "stdout",
     "output_type": "stream",
     "text": [
      "                                                GDP_Per_Capita\n",
      "Internet_Users_Pct Country                                    \n",
      "0.00               Dem. People's Rep. of Korea        0.000000\n",
      "0.99               Eritrea                            0.000000\n",
      "1.14               Timor-Leste                     3264.568070\n",
      "1.38               Burundi                          886.235777\n",
      "1.63               Somalia                            0.000000\n",
      "...                                                        ...\n",
      "NaN                Tuvalu                          3450.793169\n",
      "                   Upper middle income            14275.343977\n",
      "                   Vietnam                         6098.489609\n",
      "                   West Bank and Gaza              5967.073437\n",
      "                   World                          15189.648507\n",
      "\n",
      "[277 rows x 1 columns]\n"
     ]
    }
   ],
   "source": [
    "fourteen_low_int = fourteen.groupby(by=[\"Internet_Users_Pct\", \"Country\"], dropna=False).sum()\n",
    "fourteen_low_int = fourteen_low_int.sort_values([\"Internet_Users_Pct\"], ascending=[True])\n",
    "print(fourteen_low_int)"
   ]
  },
  {
   "cell_type": "markdown",
   "id": "903544c8",
   "metadata": {},
   "source": [
    "Timor-Leste had the lowest percentage of internet users in 2014 at 1.14%."
   ]
  },
  {
   "cell_type": "markdown",
   "id": "082606da",
   "metadata": {},
   "source": [
    "# 20. Repeat for 2004 and 2009."
   ]
  },
  {
   "cell_type": "code",
   "execution_count": 49,
   "id": "1894d629",
   "metadata": {},
   "outputs": [
    {
     "name": "stdout",
     "output_type": "stream",
     "text": [
      "                                        GDP_Per_Capita\n",
      "Internet_Users_Pct Country                            \n",
      "83.89              Sweden                 44496.023401\n",
      "83.88              Iceland                45145.545658\n",
      "80.93              Denmark                50607.628971\n",
      "77.69              Norway                 60893.410993\n",
      "72.70              Korea (Rep. of)            0.000000\n",
      "...                                                ...\n",
      "NaN                Tuvalu                  3336.952920\n",
      "                   Upper middle income     8567.061394\n",
      "                   Vietnam                 3689.732423\n",
      "                   West Bank and Gaza      4485.525458\n",
      "                   World                  12077.823821\n",
      "\n",
      "[276 rows x 1 columns]\n",
      "                                                GDP_Per_Capita\n",
      "Internet_Users_Pct Country                                    \n",
      "0.000000           Dem. People's Rep. of Korea        0.000000\n",
      "0.024337           Myanmar                         1696.881760\n",
      "0.031011           Liberia                         1181.546158\n",
      "0.077480           Tajikistan                      1737.743630\n",
      "0.105809           Afghanistan                     1200.278256\n",
      "...                                                        ...\n",
      "NaN                Tuvalu                          3336.952920\n",
      "                   Upper middle income             8567.061394\n",
      "                   Vietnam                         3689.732423\n",
      "                   West Bank and Gaza              4485.525458\n",
      "                   World                          12077.823821\n",
      "\n",
      "[276 rows x 1 columns]\n"
     ]
    }
   ],
   "source": [
    "four_high_int = four.groupby(by=[\"Internet_Users_Pct\", \"Country\"], dropna=False).sum()\n",
    "four_high_int = four_high_int.sort_values([\"Internet_Users_Pct\"], ascending=[False])\n",
    "print(four_high_int)\n",
    "four_low_int = four.groupby(by=[\"Internet_Users_Pct\", \"Country\"], dropna=False).sum()\n",
    "four_low_int = four_low_int.sort_values([\"Internet_Users_Pct\"], ascending=[True])\n",
    "print(four_low_int)"
   ]
  },
  {
   "cell_type": "markdown",
   "id": "a5590ee4",
   "metadata": {},
   "source": [
    "2004: Sweden had the highest percentage of internet users at 83.89%. Myanmar had the lowest percentage of internet users at 0.02%."
   ]
  },
  {
   "cell_type": "code",
   "execution_count": 51,
   "id": "ccd8954f",
   "metadata": {},
   "outputs": [
    {
     "name": "stdout",
     "output_type": "stream",
     "text": [
      "                                        GDP_Per_Capita\n",
      "Internet_Users_Pct Country                            \n",
      "93.00              Iceland                48177.084123\n",
      "92.08              Norway                 61886.564498\n",
      "91.00              Sweden                 45638.035577\n",
      "89.63              Netherlands            51772.424928\n",
      "87.31              Luxembourg            104932.811953\n",
      "...                                                ...\n",
      "NaN                The Gambia              2283.183556\n",
      "                   Upper middle income    11212.934078\n",
      "                   Vietnam                 4830.304958\n",
      "                   West Bank and Gaza      5250.116075\n",
      "                   World                  13396.524163\n",
      "\n",
      "[277 rows x 1 columns]\n",
      "                                                GDP_Per_Capita\n",
      "Internet_Users_Pct Country                                    \n",
      "0.000000           Dem. People's Rep. of Korea        0.000000\n",
      "0.185252           Timor-Leste                     2724.770973\n",
      "0.220000           Myanmar                         2874.780227\n",
      "0.260000           Sierra Leone                    1372.392285\n",
      "0.530000           Cambodia                        2603.583778\n",
      "...                                                        ...\n",
      "NaN                The Gambia                      2283.183556\n",
      "                   Upper middle income            11212.934078\n",
      "                   Vietnam                         4830.304958\n",
      "                   West Bank and Gaza              5250.116075\n",
      "                   World                          13396.524163\n",
      "\n",
      "[277 rows x 1 columns]\n"
     ]
    }
   ],
   "source": [
    "nine_high_int = nine.groupby(by=[\"Internet_Users_Pct\", \"Country\"], dropna=False).sum()\n",
    "nine_high_int = nine_high_int.sort_values([\"Internet_Users_Pct\"], ascending=[False])\n",
    "print(nine_high_int)\n",
    "nine_low_int = nine.groupby(by=[\"Internet_Users_Pct\", \"Country\"], dropna=False).sum()\n",
    "nine_low_int = nine_low_int.sort_values([\"Internet_Users_Pct\"], ascending=[True])\n",
    "print(nine_low_int)"
   ]
  },
  {
   "cell_type": "markdown",
   "id": "3d1fad96",
   "metadata": {},
   "source": [
    "2009: Iceland had the highest percentage of internet users at 93%. Timor-Leste had the lowest percentage of internet users at 0.18%."
   ]
  },
  {
   "cell_type": "markdown",
   "id": "de0923ee",
   "metadata": {},
   "source": [
    "# 21. Which country had the highest gdp per capita in 2014? What was the gdp per capita?"
   ]
  },
  {
   "cell_type": "code",
   "execution_count": 50,
   "id": "fd690d9e",
   "metadata": {},
   "outputs": [
    {
     "name": "stdout",
     "output_type": "stream",
     "text": [
      "                                                       GDP_Per_Capita\n",
      "Internet_Users_Pct Country                                           \n",
      "NaN                Macao SAR, China                     156514.133850\n",
      "94.67              Luxembourg                           108760.916030\n",
      "91.49              Qatar                                 95578.416973\n",
      "82.00              Singapore                             87808.663157\n",
      "96.80              Bermuda                               77361.104881\n",
      "...                                                               ...\n",
      "29.65              Micronesia (Fed. States of)               0.000000\n",
      "3.00               Congo (Democratic Republic of the)        0.000000\n",
      "95.21              Liechtenstein                             0.000000\n",
      "70.00              New Caledonia                             0.000000\n",
      "0.00               Dem. People's Rep. of Korea               0.000000\n",
      "\n",
      "[277 rows x 1 columns]\n"
     ]
    }
   ],
   "source": [
    "fourteen_high_gdp = fourteen.groupby(by=[\"Internet_Users_Pct\", \"Country\"], dropna=False).sum()\n",
    "fourteen_high_gdp = fourteen_high_gdp.sort_values([\"GDP_Per_Capita\"], ascending=[False])\n",
    "print(fourteen_high_gdp)"
   ]
  },
  {
   "cell_type": "markdown",
   "id": "124e3d4c",
   "metadata": {},
   "source": [
    "Macao SAR had the highest gdp per capita in 2014 at 156,514.13."
   ]
  },
  {
   "cell_type": "markdown",
   "id": "523f59c8",
   "metadata": {},
   "source": [
    "# 22. Which country had the lowest gdp per capita in 2014? What was the gdp per capita?"
   ]
  },
  {
   "cell_type": "code",
   "execution_count": 52,
   "id": "187c59eb",
   "metadata": {},
   "outputs": [
    {
     "name": "stdout",
     "output_type": "stream",
     "text": [
      "                                                GDP_Per_Capita\n",
      "Internet_Users_Pct Country                                    \n",
      "0.00               Dem. People's Rep. of Korea        0.000000\n",
      "15.56              Gambia                             0.000000\n",
      "15.90              South Sudan                        0.000000\n",
      "22.55              Yemen                              0.000000\n",
      "24.41              Sao Tome and Principe              0.000000\n",
      "...                                                        ...\n",
      "96.80              Bermuda                        77361.104881\n",
      "82.00              Singapore                      87808.663157\n",
      "91.49              Qatar                          95578.416973\n",
      "94.67              Luxembourg                    108760.916030\n",
      "NaN                Macao SAR, China              156514.133850\n",
      "\n",
      "[277 rows x 1 columns]\n"
     ]
    }
   ],
   "source": [
    "fourteen_low_gdp = fourteen.groupby(by=[\"Internet_Users_Pct\", \"Country\"], dropna=False).sum()\n",
    "fourteen_low_gdp = fourteen_low_gdp.sort_values([\"GDP_Per_Capita\"], ascending=[True])\n",
    "print(fourteen_low_gdp)"
   ]
  },
  {
   "cell_type": "markdown",
   "id": "a7da4c74",
   "metadata": {},
   "source": [
    "North Korea had the lowest gdp per capita in 2014 at 0 along with several other countries."
   ]
  },
  {
   "cell_type": "markdown",
   "id": "e4afbd3c",
   "metadata": {},
   "source": [
    "# 23. Create some scatterplots:"
   ]
  },
  {
   "cell_type": "markdown",
   "id": "da2fd427",
   "metadata": {},
   "source": [
    "a. 2004 Percent Using the Internet vs GDP Per Capita"
   ]
  },
  {
   "cell_type": "code",
   "execution_count": 26,
   "id": "f9886e48",
   "metadata": {},
   "outputs": [
    {
     "data": {
      "text/plain": [
       "Text(0.5, 1.0, '2004 Internet Users vs GDP Per Capita Chart')"
      ]
     },
     "execution_count": 26,
     "metadata": {},
     "output_type": "execute_result"
    },
    {
     "data": {
      "image/png": "[encoded data removed]",
      "text/plain": [
       "<Figure size 432x288 with 1 Axes>"
      ]
     },
     "metadata": {
      "needs_background": "light"
     },
     "output_type": "display_data"
    }
   ],
   "source": [
    "plt.scatter(four.Internet_Users_Pct, four.GDP_Per_Capita, alpha=0.1)\n",
    "plt.xlabel(\"Percent Using the Internet\")\n",
    "plt.ylabel(\"GDP Per Capita\")\n",
    "plt.title(\"2004 Internet Users vs GDP Per Capita Chart\")"
   ]
  },
  {
   "cell_type": "markdown",
   "id": "899935ef",
   "metadata": {},
   "source": [
    "b. 2009 Percent Using the Internet vs GDP Per Capita"
   ]
  },
  {
   "cell_type": "code",
   "execution_count": 27,
   "id": "43fd9cf9",
   "metadata": {},
   "outputs": [
    {
     "data": {
      "text/plain": [
       "Text(0.5, 1.0, '2009 Internet Users vs GDP Per Capita Chart')"
      ]
     },
     "execution_count": 27,
     "metadata": {},
     "output_type": "execute_result"
    },
    {
     "data": {
      "image/png": "[encoded data removed]",
      "text/plain": [
       "<Figure size 432x288 with 1 Axes>"
      ]
     },
     "metadata": {
      "needs_background": "light"
     },
     "output_type": "display_data"
    }
   ],
   "source": [
    "plt.scatter(nine.Internet_Users_Pct, nine.GDP_Per_Capita, alpha=0.1)\n",
    "plt.xlabel(\"Percent Using the Internet\")\n",
    "plt.ylabel(\"GDP Per Capita\")\n",
    "plt.title(\"2009 Internet Users vs GDP Per Capita Chart\")"
   ]
  },
  {
   "cell_type": "markdown",
   "id": "8c3a5abe",
   "metadata": {},
   "source": [
    "c. 2014 Percent Using the Internet vs GDP Per Capita"
   ]
  },
  {
   "cell_type": "code",
   "execution_count": 28,
   "id": "6c70d66a",
   "metadata": {},
   "outputs": [
    {
     "data": {
      "text/plain": [
       "Text(0.5, 1.0, '2014 Internet Users vs GDP Per Capita Chart')"
      ]
     },
     "execution_count": 28,
     "metadata": {},
     "output_type": "execute_result"
    },
    {
     "data": {
      "image/png": "[encoded data removed]",
      "text/plain": [
       "<Figure size 432x288 with 1 Axes>"
      ]
     },
     "metadata": {
      "needs_background": "light"
     },
     "output_type": "display_data"
    }
   ],
   "source": [
    "plt.scatter(fourteen.Internet_Users_Pct, fourteen.GDP_Per_Capita, alpha=0.1)\n",
    "plt.xlabel(\"Percent Using the Internet\")\n",
    "plt.ylabel(\"GDP Per Capita\")\n",
    "plt.title(\"2014 Internet Users vs GDP Per Capita Chart\")"
   ]
  },
  {
   "cell_type": "markdown",
   "id": "62db30cb",
   "metadata": {},
   "source": [
    "# 24. Are there differences across years? What do the plots tell you about any relationship between these two variables? Enter your observations as a markdown cell."
   ]
  },
  {
   "cell_type": "markdown",
   "id": "c5432250",
   "metadata": {},
   "source": [
    "Over the years there seems to be an increase in internet users and less concentration of countries with a low gdp per capita. Countries with higher gdp per capita seem to all have shifted to having over 50% internet users."
   ]
  },
  {
   "cell_type": "markdown",
   "id": "4918d3b8",
   "metadata": {},
   "source": [
    "# 25. Look at the distribution of gdp per capita values for 2014. Is it unimodal?"
   ]
  },
  {
   "cell_type": "code",
   "execution_count": 29,
   "id": "32177980",
   "metadata": {},
   "outputs": [
    {
     "data": {
      "text/plain": [
       "(array([178.,  43.,  13.,   2.,   1.,   1.]),\n",
       " array([   822.61045782,  26771.19768981,  52719.78492181,  78668.3721538 ,\n",
       "        104616.95938579, 130565.54661779, 156514.13384978]),\n",
       " <BarContainer object of 6 artists>)"
      ]
     },
     "execution_count": 29,
     "metadata": {},
     "output_type": "execute_result"
    },
    {
     "data": {
      "image/png": "[encoded data removed]",
      "text/plain": [
       "<Figure size 432x288 with 1 Axes>"
      ]
     },
     "metadata": {
      "needs_background": "light"
     },
     "output_type": "display_data"
    }
   ],
   "source": [
    "plt.hist(fourteen.GDP_Per_Capita, bins=6)"
   ]
  },
  {
   "cell_type": "markdown",
   "id": "54807d0b",
   "metadata": {},
   "source": [
    "The gdp per capita values for 2014 do not appear to be unimodal."
   ]
  },
  {
   "cell_type": "markdown",
   "id": "2b10371f",
   "metadata": {},
   "source": [
    "# 26. Look at the distribution of Internet Use for 2014. Is it unimodal?"
   ]
  },
  {
   "cell_type": "code",
   "execution_count": 30,
   "id": "560c2c27",
   "metadata": {},
   "outputs": [
    {
     "data": {
      "text/plain": [
       "(array([31., 31., 12., 10., 24., 18., 21., 20., 18., 17.]),\n",
       " array([ 0.   ,  9.816, 19.632, 29.448, 39.264, 49.08 , 58.896, 68.712,\n",
       "        78.528, 88.344, 98.16 ]),\n",
       " <BarContainer object of 10 artists>)"
      ]
     },
     "execution_count": 30,
     "metadata": {},
     "output_type": "execute_result"
    },
    {
     "data": {
      "image/png": "[encoded data removed]",
      "text/plain": [
       "<Figure size 432x288 with 1 Axes>"
      ]
     },
     "metadata": {
      "needs_background": "light"
     },
     "output_type": "display_data"
    }
   ],
   "source": [
    "plt.hist(fourteen.Internet_Users_Pct)"
   ]
  },
  {
   "cell_type": "markdown",
   "id": "74eed757",
   "metadata": {},
   "source": [
    "The internet use percentages for 2014 do not appear to be unimodal."
   ]
  },
  {
   "cell_type": "markdown",
   "id": "82cb3f7a",
   "metadata": {},
   "source": [
    "# 27. What are the top 5 countries in terms of internet use in 2014?"
   ]
  },
  {
   "cell_type": "code",
   "execution_count": 53,
   "id": "a96e03d5",
   "metadata": {},
   "outputs": [
    {
     "name": "stdout",
     "output_type": "stream",
     "text": [
      "                            GDP_Per_Capita\n",
      "Internet_Users_Pct Country                \n",
      "98.16              Iceland    49652.149500\n",
      "96.80              Bermuda    77361.104881\n",
      "96.30              Norway     62589.373548\n",
      "95.99              Denmark    52214.537753\n",
      "95.90              Andorra        0.000000\n"
     ]
    }
   ],
   "source": [
    "fourteen_top5_int = fourteen.groupby(by=[\"Internet_Users_Pct\", \"Country\"], dropna=False).sum()\n",
    "fourteen_top5_int = fourteen_top5_int.sort_values([\"Internet_Users_Pct\"], ascending=[False])\n",
    "print(fourteen_top5_int.head())"
   ]
  },
  {
   "cell_type": "markdown",
   "id": "5f5b45b6",
   "metadata": {},
   "source": [
    "# 28. Create a DataFrame called top_5_internet from the combined DataFrame that has all three years for the 5 countries that had the greatest 2014 internet usage. You should have 15 rows. Check that this is true."
   ]
  },
  {
   "cell_type": "code",
   "execution_count": 56,
   "id": "6b7af312",
   "metadata": {},
   "outputs": [
    {
     "name": "stdout",
     "output_type": "stream",
     "text": [
      "      Country  Year  GDP_Per_Capita  Internet_Users_Pct\n",
      "571   Bermuda  2004    90195.811033           60.990867\n",
      "1462  Denmark  2004    50607.628971           80.930000\n",
      "2635  Iceland  2004    45145.545658           83.880000\n",
      "4658   Norway  2004    60893.410993           77.690000\n",
      "6882  Andorra  2004             NaN           26.837954\n",
      "566   Bermuda  2009    89961.982744           83.250000\n",
      "1457  Denmark  2009    50274.075696           86.840000\n",
      "2630  Iceland  2009    48177.084123           93.000000\n",
      "4653   Norway  2009    61886.564498           92.080000\n",
      "6877  Andorra  2009             NaN           78.530000\n",
      "561   Bermuda  2014    77361.104881           96.800000\n",
      "1452  Denmark  2014    52214.537753           95.990000\n",
      "2625  Iceland  2014    49652.149500           98.160000\n",
      "4648   Norway  2014    62589.373548           96.300000\n",
      "6872  Andorra  2014             NaN           95.900000\n",
      "(15, 4)\n"
     ]
    }
   ],
   "source": [
    "top_5_internet = gdp_and_internet_use[(gdp_and_internet_use['Year'].isin(['2004','2009', '2014'])) & (gdp_and_internet_use['Country'].isin(['Iceland', 'Bermuda', 'Norway', 'Denmark', 'Andorra']))]\n",
    "top_5_internet = top_5_internet.sort_values([\"Year\"], ascending=[True])\n",
    "print(top_5_internet)\n",
    "print(top_5_internet.shape)"
   ]
  },
  {
   "cell_type": "markdown",
   "id": "24fa2c02",
   "metadata": {},
   "source": [
    "# 29. Create a seaborn FacetGrid to show the internet usage trend across the years 2004, 2009, and 2014 for these 5 countries (those with the highest reported internet use in 2014). Which country had the greatest growth between 2004 and 2014?"
   ]
  },
  {
   "cell_type": "code",
   "execution_count": 57,
   "id": "099f5c16",
   "metadata": {},
   "outputs": [
    {
     "data": {
      "text/plain": [
       "<seaborn.axisgrid.FacetGrid at 0x1fa3a886730>"
      ]
     },
     "execution_count": 57,
     "metadata": {},
     "output_type": "execute_result"
    },
    {
     "data": {
      "image/png": "[encoded data removed]",
      "text/plain": [
       "<Figure size 292.75x216 with 1 Axes>"
      ]
     },
     "metadata": {},
     "output_type": "display_data"
    }
   ],
   "source": [
    "top_5_internet = gdp_and_internet_use[(gdp_and_internet_use['Year'].isin(['2004','2009', '2014'])) & (gdp_and_internet_use['Country'].isin(['Iceland', 'Bermuda', 'Norway', 'Denmark', 'Andorra']))]\n",
    "top_5_internet = top_5_internet.sort_values([\"Year\"], ascending=[True])\n",
    "g = sns.FacetGrid(top_5_internet, hue=\"Country\")\n",
    "g.map_dataframe(sns.lineplot, x='Year', y='Internet_Users_Pct')\n",
    "g.add_legend()"
   ]
  },
  {
   "cell_type": "markdown",
   "id": "10d9643c",
   "metadata": {},
   "source": [
    "Andorra had the greatest growth between 2004 and 2014."
   ]
  },
  {
   "cell_type": "markdown",
   "id": "f81b2c9e",
   "metadata": {},
   "source": [
    "# 30. Repeat the steps above to look at the trend for the 5 countries with the lowest 2014 internet usage. Which country has consistently had the least internet use?"
   ]
  },
  {
   "cell_type": "code",
   "execution_count": 63,
   "id": "ebc250c2",
   "metadata": {},
   "outputs": [
    {
     "name": "stdout",
     "output_type": "stream",
     "text": [
      "                                                GDP_Per_Capita\n",
      "Internet_Users_Pct Country                                    \n",
      "0.00               Dem. People's Rep. of Korea        0.000000\n",
      "0.99               Eritrea                            0.000000\n",
      "1.14               Timor-Leste                     3264.568070\n",
      "1.38               Burundi                          886.235777\n",
      "1.63               Somalia                            0.000000\n",
      "                          Country  Year  GDP_Per_Capita  Internet_Users_Pct\n",
      "837                       Burundi  2004      817.460585            0.349060\n",
      "6229                  Timor-Leste  2004     2258.608056                 NaN\n",
      "7089  Dem. People's Rep. of Korea  2004             NaN            0.000000\n",
      "7684                      Somalia  2004             NaN            1.053455\n",
      "832                       Burundi  2009      831.564131            0.900000\n",
      "6224                  Timor-Leste  2009     2724.770973            0.185252\n",
      "7084  Dem. People's Rep. of Korea  2009             NaN            0.000000\n",
      "7143                      Eritrea  2009             NaN            0.540000\n",
      "7679                      Somalia  2009             NaN            1.160611\n",
      "827                       Burundi  2014      886.235777            1.380000\n",
      "6219                  Timor-Leste  2014     3264.568070            1.140000\n",
      "7080  Dem. People's Rep. of Korea  2014             NaN            0.000000\n",
      "7138                      Eritrea  2014             NaN            0.990000\n",
      "7675                      Somalia  2014             NaN            1.630000\n",
      "(14, 4)\n"
     ]
    },
    {
     "data": {
      "text/plain": [
       "<seaborn.axisgrid.FacetGrid at 0x1fa3aad6460>"
      ]
     },
     "execution_count": 63,
     "metadata": {},
     "output_type": "execute_result"
    },
    {
     "data": {
      "image/png": "[encoded data removed]",
      "text/plain": [
       "<Figure size 381x216 with 1 Axes>"
      ]
     },
     "metadata": {},
     "output_type": "display_data"
    }
   ],
   "source": [
    "# 5 Countries with the Lowest 2014 Internet Usage:\n",
    "bot_5_internet = fourteen.groupby(by=[\"Internet_Users_Pct\", \"Country\"], dropna=False).sum()\n",
    "bot_5_internet = bot_5_internet.sort_values([\"Internet_Users_Pct\"], ascending=[True])\n",
    "print(bot_5_internet.head())\n",
    "\n",
    "# Create Bottom 5 Internet Usage dataframe:\n",
    "bot_5_int_df = gdp_and_internet_use[(gdp_and_internet_use['Year'].isin(['2004','2009', '2014'])) & (gdp_and_internet_use['Country'].isin([\"Dem. People's Rep. of Korea\", 'Eritrea', 'Timor-Leste', 'Burundi', 'Somalia']))]\n",
    "bot_5_int_df = bot_5_int_df.sort_values([\"Year\"], ascending=[True])\n",
    "print(bot_5_int_df)\n",
    "print(bot_5_int_df.shape)\n",
    "\n",
    "# Create Bottom 5 Internet Usage seaborn FacetGrid:\n",
    "bot_5_int_df = gdp_and_internet_use[(gdp_and_internet_use['Year'].isin(['2004','2009', '2014'])) & (gdp_and_internet_use['Country'].isin([\"Dem. People's Rep. of Korea\", 'Eritrea', 'Timor-Leste', 'Burundi', 'Somalia']))]\n",
    "bot_5_int_df = bot_5_int_df.sort_values([\"Year\"], ascending=[True])\n",
    "g = sns.FacetGrid(bot_5_int_df, hue=\"Country\")\n",
    "g.map_dataframe(sns.lineplot, x='Year', y='Internet_Users_Pct')\n",
    "g.add_legend()"
   ]
  },
  {
   "cell_type": "markdown",
   "id": "6314599a",
   "metadata": {},
   "source": [
    "North Korea has consistently had the least internet usage."
   ]
  },
  {
   "cell_type": "markdown",
   "id": "c06fdc4d",
   "metadata": {},
   "source": [
    "# 31. Find the top 5 countries for 2014 in terms of GDP per capita; create a DataFrame to look at 10-year trends (use 2004, 2009, 2014 to look at the 10-year trend) in gdp per capita for the 5 countries with the highest 2014 GDP per capita. Use a seaborn facet grid for this."
   ]
  },
  {
   "cell_type": "code",
   "execution_count": 70,
   "id": "8ac8ee3b",
   "metadata": {},
   "outputs": [
    {
     "name": "stdout",
     "output_type": "stream",
     "text": [
      "                                 Internet_Users_Pct\n",
      "GDP_Per_Capita Country                             \n",
      "156514.133850  Macao SAR, China                0.00\n",
      "108760.916030  Luxembourg                     94.67\n",
      "95578.416973   Qatar                          91.49\n",
      "87808.663157   Singapore                      82.00\n",
      "77361.104881   Bermuda                        96.80\n",
      "               Country  Year  GDP_Per_Capita  Internet_Users_Pct\n",
      "571            Bermuda  2004    90195.811033           60.990867\n",
      "3701        Luxembourg  2004   102708.212547           65.880000\n",
      "3731  Macao SAR, China  2004    72944.409424                 NaN\n",
      "5148             Qatar  2004    93748.301216           20.701648\n",
      "5474         Singapore  2004    63901.716368           62.000000\n",
      "566            Bermuda  2009    89961.982744           83.250000\n",
      "3696        Luxembourg  2009   104932.811953           87.310000\n",
      "3726  Macao SAR, China  2009    95939.340822                 NaN\n",
      "5143             Qatar  2009    89954.519993           53.100000\n",
      "5469         Singapore  2009    69466.581746           69.000000\n",
      "561            Bermuda  2014    77361.104881           96.800000\n",
      "3691        Luxembourg  2014   108760.916030           94.670000\n",
      "3721  Macao SAR, China  2014   156514.133850                 NaN\n",
      "5138             Qatar  2014    95578.416973           91.490000\n",
      "5464         Singapore  2014    87808.663157           82.000000\n",
      "(15, 4)\n"
     ]
    },
    {
     "data": {
      "text/plain": [
       "<seaborn.axisgrid.FacetGrid at 0x1fa3ae88370>"
      ]
     },
     "execution_count": 70,
     "metadata": {},
     "output_type": "execute_result"
    },
    {
     "data": {
      "image/png": "[encoded data removed]",
      "text/plain": [
       "<Figure size 337x216 with 1 Axes>"
      ]
     },
     "metadata": {},
     "output_type": "display_data"
    }
   ],
   "source": [
    "# Top 5 Countries for 2014 GDP per capita:\n",
    "top5gdp2014 = fourteen.groupby(by=[\"GDP_Per_Capita\", \"Country\"], dropna=False).sum()\n",
    "top5gdp2014 = top5gdp2014.sort_values([\"GDP_Per_Capita\"], ascending=[False])\n",
    "print(top5gdp2014.head())\n",
    "\n",
    "# Create Top 5 Countries for 2014 GDP per capita dataframe:\n",
    "top_5_gdp = gdp_and_internet_use[(gdp_and_internet_use['Year'].isin(['2004','2009', '2014'])) & (gdp_and_internet_use['Country'].isin(['Macao SAR, China', 'Luxembourg', 'Qatar', 'Singapore', 'Bermuda']))]\n",
    "top_5_gdp = top_5_gdp.sort_values([\"Year\"], ascending=[True])\n",
    "print(top_5_gdp)\n",
    "print(top_5_gdp.shape)\n",
    "\n",
    "# Create Top 5 Countries for 2014 GDP per capita seaborn FacetGrid:\n",
    "top_5_gdp = gdp_and_internet_use[(gdp_and_internet_use['Year'].isin(['2004','2009', '2014'])) & (gdp_and_internet_use['Country'].isin(['Macao SAR, China', 'Luxembourg', 'Qatar', 'Singapore', 'Bermuda']))]\n",
    "top_5_gdp = top_5_gdp.sort_values([\"Year\"], ascending=[True])\n",
    "g = sns.FacetGrid(top_5_gdp, hue=\"Country\")\n",
    "g.map_dataframe(sns.lineplot, x='Year', y=\"GDP_Per_Capita\")\n",
    "g.add_legend()"
   ]
  },
  {
   "cell_type": "markdown",
   "id": "ed8b9c08",
   "metadata": {},
   "source": [
    "# 32. Repeat this one more time to look at 10-year trend for the 5 countries for 2014 with the lowest GDP per capita."
   ]
  },
  {
   "cell_type": "code",
   "execution_count": 69,
   "id": "fc06b099",
   "metadata": {},
   "outputs": [
    {
     "name": "stdout",
     "output_type": "stream",
     "text": [
      "                                         Internet_Users_Pct\n",
      "GDP_Per_Capita Country                                     \n",
      "822.610458     Central African Republic                0.00\n",
      "886.235777     Burundi                                 1.38\n",
      "1027.208496    Malawi                                  5.83\n",
      "1029.790785    Dem. Rep. Congo                         0.00\n",
      "1127.615541    Niger                                   1.95\n",
      "                       Country  Year  GDP_Per_Capita  Internet_Users_Pct\n",
      "837                    Burundi  2004      817.460585            0.349060\n",
      "1057  Central African Republic  2004     1037.846766                 NaN\n",
      "1432           Dem. Rep. Congo  2004      757.685942                 NaN\n",
      "3791                    Malawi  2004      775.346132            0.347505\n",
      "4538                     Niger  2004      929.883920            0.189934\n",
      "832                    Burundi  2009      831.564131            0.900000\n",
      "1052  Central African Republic  2009     1161.189475                 NaN\n",
      "1427           Dem. Rep. Congo  2009      835.611696                 NaN\n",
      "3786                    Malawi  2009      932.867635            1.070000\n",
      "4533                     Niger  2009      992.409977            0.760000\n",
      "827                    Burundi  2014      886.235777            1.380000\n",
      "1047  Central African Republic  2014      822.610458                 NaN\n",
      "1422           Dem. Rep. Congo  2014     1029.790785                 NaN\n",
      "3781                    Malawi  2014     1027.208496            5.830000\n",
      "4528                     Niger  2014     1127.615541            1.950000\n",
      "(15, 4)\n"
     ]
    },
    {
     "data": {
      "text/plain": [
       "<seaborn.axisgrid.FacetGrid at 0x1fa3adca880>"
      ]
     },
     "execution_count": 69,
     "metadata": {},
     "output_type": "execute_result"
    },
    {
     "data": {
      "image/png": "[encoded data removed]",
      "text/plain": [
       "<Figure size 359.5x216 with 1 Axes>"
      ]
     },
     "metadata": {},
     "output_type": "display_data"
    }
   ],
   "source": [
    "# Bottom 5 Countries for 2014 GDP per capita:\n",
    "bot5gdp2014 = fourteen.groupby(by=[\"GDP_Per_Capita\", \"Country\"], dropna=False).sum()\n",
    "bot5gdp2014 = bot5gdp2014.sort_values([\"GDP_Per_Capita\"], ascending=[True])\n",
    "print(bot5gdp2014.head())\n",
    "\n",
    "# Create Bottom 5 Countries for 2014 GDP per capita dataframe:\n",
    "bot_5_gdp = gdp_and_internet_use[(gdp_and_internet_use['Year'].isin(['2004','2009', '2014'])) & (gdp_and_internet_use['Country'].isin(['Central African Republic', 'Burundi', 'Malawi', 'Dem. Rep. Congo', 'Niger']))]\n",
    "bot_5_gdp = bot_5_gdp.sort_values([\"Year\"], ascending=[True])\n",
    "print(bot_5_gdp)\n",
    "print(bot_5_gdp.shape)\n",
    "\n",
    "# Create Bottom 5 Countries for 2014 GDP per capita seaborn FacetGrid:\n",
    "bot_5_gdp = gdp_and_internet_use[(gdp_and_internet_use['Year'].isin(['2004','2009', '2014'])) & (gdp_and_internet_use['Country'].isin(['Central African Republic', 'Burundi', 'Malawi', 'Dem. Rep. Congo', 'Niger']))]\n",
    "bot_5_gdp = bot_5_gdp.sort_values([\"Year\"], ascending=[True])\n",
    "g = sns.FacetGrid(bot_5_gdp, hue=\"Country\")\n",
    "g.map_dataframe(sns.lineplot, x='Year', y=\"GDP_Per_Capita\")\n",
    "g.add_legend()"
   ]
  },
  {
   "cell_type": "markdown",
   "id": "5a800496",
   "metadata": {},
   "source": [
    "# 33. Is there anything surprising or unusual in any of these plots? Searching on the internet, can you find any possible explanations for unusual findings?"
   ]
  },
  {
   "cell_type": "markdown",
   "id": "da98b804",
   "metadata": {},
   "source": [
    "Many countries saw a dip in GDP in 2009 due to the global recession at the time. The recession did not impact the bottom 5 GDP countries as much as the top 5 -- however, Togo (the top country of the bottom 5) did experience a decrease in GDP as explained by the International Monetary Fund (https://www.elibrary.imf.org/view/journals/002/2009/165/article-A001-en.xml):\n",
    "\"The decrease in global demand has already brought decreases in the prices of [Togo's] main exports, phosphate and cotton, which already had problems. The increase in unemployment in Europe and the U.S. may also affect Togo through lower remittances, which have been a significant source of income (estimated at about 10 percent of GDP).\""
   ]
  }
 ],
 "metadata": {
  "kernelspec": {
   "display_name": "Python 3 (ipykernel)",
   "language": "python",
   "name": "python3"
  },
  "language_info": {
   "codemirror_mode": {
    "name": "ipython",
    "version": 3
   },
   "file_extension": ".py",
   "mimetype": "text/x-python",
   "name": "python",
   "nbconvert_exporter": "python",
   "pygments_lexer": "ipython3",
   "version": "3.9.7"
  }
 },
 "nbformat": 4,
 "nbformat_minor": 5
}
